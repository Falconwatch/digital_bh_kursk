{
  "nbformat": 4,
  "nbformat_minor": 0,
  "metadata": {
    "colab": {
      "name": "EDA.ipynb",
      "provenance": [],
      "toc_visible": true,
      "authorship_tag": "ABX9TyOjAIa/QN2izK21OUsdJzmz",
      "include_colab_link": true
    },
    "kernelspec": {
      "name": "python3",
      "display_name": "Python 3"
    },
    "language_info": {
      "name": "python"
    }
  },
  "cells": [
    {
      "cell_type": "markdown",
      "metadata": {
        "id": "view-in-github",
        "colab_type": "text"
      },
      "source": [
        "<a href=\"https://colab.research.google.com/github/Falconwatch/digital_bh_kursk/blob/main/EDA.ipynb\" target=\"_parent\"><img src=\"https://colab.research.google.com/assets/colab-badge.svg\" alt=\"Open In Colab\"/></a>"
      ]
    },
    {
      "cell_type": "code",
      "execution_count": 76,
      "metadata": {
        "id": "HUsZJhO-mAxd"
      },
      "outputs": [],
      "source": [
        "import pandas as pd\n",
        "import numpy as np\n",
        "import seaborn as sns\n",
        "import matplotlib.pyplot as plt\n",
        "from sklearn.model_selection import train_test_split\n",
        "from sklearn.ensemble import RandomForestClassifier\n",
        "\n",
        "%matplotlib inline"
      ]
    },
    {
      "cell_type": "code",
      "source": [
        "train = pd.read_csv('train_dataset_train.csv')"
      ],
      "metadata": {
        "id": "oAwJktK1mbQG"
      },
      "execution_count": 77,
      "outputs": []
    },
    {
      "cell_type": "markdown",
      "source": [
        "# Посмотрим на тергеты"
      ],
      "metadata": {
        "id": "9QztqBSBmncE"
      }
    },
    {
      "cell_type": "markdown",
      "source": [
        "## Тематика"
      ],
      "metadata": {
        "id": "9uz1oZ2Lm6qC"
      }
    },
    {
      "cell_type": "code",
      "source": [
        "train[\"Тематика\"].value_counts()"
      ],
      "metadata": {
        "colab": {
          "base_uri": "https://localhost:8080/"
        },
        "id": "yneIil1Vm5rl",
        "outputId": "8f7e0d7e-fcf9-4407-d4a6-100efd6c05d1"
      },
      "execution_count": 78,
      "outputs": [
        {
          "output_type": "execute_result",
          "data": {
            "text/plain": [
              "Нарушение дорожного покрытия (ямы)  на дорогах в границах городских округов и сельских поселений                 155\n",
              "Неработающее наружное освещение                                                                                  108\n",
              "Отсутствие люков на коммуникационных колодцах                                                                     90\n",
              "Несанкционированные свалки твёрдых бытовых отходов                                                                85\n",
              "Аварийные деревья                                                                                                 79\n",
              "                                                                                                                ... \n",
              "Неудовлетворительный внешний вид (поведение) водителя при осуществлении муниципальных (пригородных) перевозок      1\n",
              "Некачественное предоставление услуг почтовой связи                                                                 1\n",
              "Неоформленные трудовые отношения                                                                                   1\n",
              "Низкое качество работы учреждений физической культуры и спорта                                                     1\n",
              "Нарушения, связанные с оплатой проезда при осуществлении внутриобластных междугородных перевозок                   1\n",
              "Name: Тематика, Length: 161, dtype: int64"
            ]
          },
          "metadata": {},
          "execution_count": 78
        }
      ]
    },
    {
      "cell_type": "code",
      "source": [
        "train[\"Тематика\"].value_counts().hist()"
      ],
      "metadata": {
        "colab": {
          "base_uri": "https://localhost:8080/",
          "height": 282
        },
        "id": "8UULc7eHmtwu",
        "outputId": "c92047a9-a96c-4c1e-9b12-c899cd842792"
      },
      "execution_count": 79,
      "outputs": [
        {
          "output_type": "execute_result",
          "data": {
            "text/plain": [
              "<matplotlib.axes._subplots.AxesSubplot at 0x7f140255b610>"
            ]
          },
          "metadata": {},
          "execution_count": 79
        },
        {
          "output_type": "display_data",
          "data": {
            "text/plain": [
              "<Figure size 432x288 with 1 Axes>"
            ],
            "image/png": "[encoded data removed]"
          },
          "metadata": {
            "needs_background": "light"
          }
        }
      ]
    },
    {
      "cell_type": "markdown",
      "source": [
        "## Категория"
      ],
      "metadata": {
        "id": "OF87AtXnnGvA"
      }
    },
    {
      "cell_type": "code",
      "source": [
        "train[\"Категория\"].value_counts()"
      ],
      "metadata": {
        "colab": {
          "base_uri": "https://localhost:8080/"
        },
        "id": "SMCj_IYInKnT",
        "outputId": "a5f13671-0008-4402-d7c2-8bb73797e5eb"
      },
      "execution_count": 80,
      "outputs": [
        {
          "output_type": "execute_result",
          "data": {
            "text/plain": [
              "3     954\n",
              "0     478\n",
              "16    149\n",
              "8     139\n",
              "4     108\n",
              "10     48\n",
              "7      27\n",
              "1      25\n",
              "11     19\n",
              "5      12\n",
              "13     11\n",
              "6      10\n",
              "15      7\n",
              "9       5\n",
              "14      4\n",
              "2       3\n",
              "12      1\n",
              "Name: Категория, dtype: int64"
            ]
          },
          "metadata": {},
          "execution_count": 80
        }
      ]
    },
    {
      "cell_type": "markdown",
      "source": [
        "## Ответственное лицо"
      ],
      "metadata": {
        "id": "jCUJXjjEnXca"
      }
    },
    {
      "cell_type": "code",
      "source": [
        "train[\"Ответственное лицо\"].value_counts()"
      ],
      "metadata": {
        "colab": {
          "base_uri": "https://localhost:8080/"
        },
        "id": "BErskFTdnaAX",
        "outputId": "3bd91f94-58cf-45c3-edc4-65c2fbf01c20"
      },
      "execution_count": 81,
      "outputs": [
        {
          "output_type": "execute_result",
          "data": {
            "text/plain": [
              "Администрация города Курска                                          421\n",
              "Комитет дорожного хозяйства города Курска                            215\n",
              "Комитет жилищно-коммунального хозяйства города Курска                171\n",
              "Государственная жилищная инспекция Курской области                   151\n",
              "Комитет городского хозяйства города Курска                           127\n",
              "                                                                    ... \n",
              "МКУ «Управление по делам ГО и ЧС при Администрации города Курска»      1\n",
              "Комитет агропромышленного комплекса Курской области                    1\n",
              "Комитет информации и печати Курской области                            1\n",
              "Администрация Кореневского района                                      1\n",
              "ООО `УК `Северный дом`                                                 1\n",
              "Name: Ответственное лицо, Length: 75, dtype: int64"
            ]
          },
          "metadata": {},
          "execution_count": 81
        }
      ]
    },
    {
      "cell_type": "code",
      "source": [
        "train[\"Ответственное лицо\"].value_counts().hist()"
      ],
      "metadata": {
        "colab": {
          "base_uri": "https://localhost:8080/",
          "height": 282
        },
        "id": "PZbjvBPrnQ3-",
        "outputId": "bdbc2026-33a4-48cf-c6b7-36ac2ad4a096"
      },
      "execution_count": 82,
      "outputs": [
        {
          "output_type": "execute_result",
          "data": {
            "text/plain": [
              "<matplotlib.axes._subplots.AxesSubplot at 0x7f1402457510>"
            ]
          },
          "metadata": {},
          "execution_count": 82
        },
        {
          "output_type": "display_data",
          "data": {
            "text/plain": [
              "<Figure size 432x288 with 1 Axes>"
            ],
            "image/png": "[encoded data removed]"
          },
          "metadata": {
            "needs_background": "light"
          }
        }
      ]
    },
    {
      "cell_type": "markdown",
      "source": [
        "## Связь тематики и категории"
      ],
      "metadata": {
        "id": "Cp7NVG1_uC3c"
      }
    },
    {
      "cell_type": "code",
      "source": [
        "t = train.groupby([\"Тематика\", \"Категория\"])[\"id\"].count().reset_index()\n",
        "t['id'] = np.ones(t.shape[0])\n",
        "cat_topic_links = t.pivot(columns = \"Категория\", index=\"Тематика\", values=\"id\").fillna(0)"
      ],
      "metadata": {
        "id": "xjz9EIHiuHzE"
      },
      "execution_count": 94,
      "outputs": []
    },
    {
      "cell_type": "code",
      "source": [
        "t.to_excel(\"cat_topic.xlsx\")"
      ],
      "metadata": {
        "id": "0VGc_Q_Bwrp-"
      },
      "execution_count": 102,
      "outputs": []
    },
    {
      "cell_type": "code",
      "source": [
        "# каждая тема отнесена к одной из категорий\n",
        "(cat_topic_links.sum(axis=1)>1).mean()"
      ],
      "metadata": {
        "colab": {
          "base_uri": "https://localhost:8080/"
        },
        "id": "X11DZB9Yuist",
        "outputId": "4e1680fe-b590-4fec-a80a-67d9e7393955"
      },
      "execution_count": 96,
      "outputs": [
        {
          "output_type": "execute_result",
          "data": {
            "text/plain": [
              "0.0"
            ]
          },
          "metadata": {},
          "execution_count": 96
        }
      ]
    },
    {
      "cell_type": "markdown",
      "source": [
        "## Связь категории и ответственного лица"
      ],
      "metadata": {
        "id": "SJqyDgizxFQN"
      }
    },
    {
      "cell_type": "code",
      "source": [
        "t2 = train.groupby([\"Ответственное лицо\", \"Категория\"])[\"id\"].count().reset_index()\n",
        "t2['id'] = np.ones(t2.shape[0])\n",
        "cat_rel_links = t2.pivot(columns = \"Категория\", index=\"Ответственное лицо\", values=\"id\").fillna(0)"
      ],
      "metadata": {
        "id": "HfOiDbPvxa-w"
      },
      "execution_count": 107,
      "outputs": []
    },
    {
      "cell_type": "code",
      "source": [
        "cat_rel_links.shape"
      ],
      "metadata": {
        "colab": {
          "base_uri": "https://localhost:8080/"
        },
        "id": "jl_ZdprxxzFr",
        "outputId": "99b4aa5e-43e1-47f9-cd72-e5f3af4e7591"
      },
      "execution_count": 112,
      "outputs": [
        {
          "output_type": "execute_result",
          "data": {
            "text/plain": [
              "(75, 17)"
            ]
          },
          "metadata": {},
          "execution_count": 112
        }
      ]
    },
    {
      "cell_type": "code",
      "source": [
        "cat_rel_links.to_excel(\"cat_rel_links.xlsx\")"
      ],
      "metadata": {
        "id": "cl-xndQ7x_Gk"
      },
      "execution_count": 113,
      "outputs": []
    },
    {
      "cell_type": "code",
      "source": [
        "cat_rel_links"
      ],
      "metadata": {
        "colab": {
          "base_uri": "https://localhost:8080/",
          "height": 511
        },
        "id": "QXsO8ZbAx1KW",
        "outputId": "fcaad0ea-bf08-44ed-88ce-7d6d893f7a00"
      },
      "execution_count": 114,
      "outputs": [
        {
          "output_type": "execute_result",
          "data": {
            "text/plain": [
              "Категория                                            0    1    2    3    4   \\\n",
              "Ответственное лицо                                                            \n",
              "Администрация Беловского района                     1.0  0.0  0.0  1.0  0.0   \n",
              "Администрация Большесолдатского района              0.0  0.0  0.0  1.0  0.0   \n",
              "Администрация Глушковского района                   1.0  0.0  0.0  1.0  0.0   \n",
              "Администрация Горшеченского района                  1.0  0.0  0.0  1.0  0.0   \n",
              "Администрация Железногорского района                1.0  0.0  0.0  1.0  0.0   \n",
              "...                                                 ...  ...  ...  ...  ...   \n",
              "ООО `УК Сейм`                                       0.0  0.0  0.0  1.0  0.0   \n",
              "ООО УК `Жилсервис-Центр`                            0.0  0.0  0.0  1.0  0.0   \n",
              "Ответственный ПМИ                                   0.0  0.0  0.0  1.0  1.0   \n",
              "Управление молодежной политики, физической куль...  0.0  0.0  0.0  1.0  0.0   \n",
              "Управление муниципального контроля города Курска    0.0  0.0  0.0  0.0  0.0   \n",
              "\n",
              "Категория                                            5    6    7    8    9   \\\n",
              "Ответственное лицо                                                            \n",
              "Администрация Беловского района                     0.0  0.0  0.0  0.0  0.0   \n",
              "Администрация Большесолдатского района              0.0  0.0  0.0  1.0  0.0   \n",
              "Администрация Глушковского района                   0.0  0.0  0.0  0.0  0.0   \n",
              "Администрация Горшеченского района                  0.0  0.0  0.0  0.0  0.0   \n",
              "Администрация Железногорского района                0.0  0.0  1.0  0.0  0.0   \n",
              "...                                                 ...  ...  ...  ...  ...   \n",
              "ООО `УК Сейм`                                       0.0  0.0  0.0  0.0  0.0   \n",
              "ООО УК `Жилсервис-Центр`                            0.0  0.0  0.0  0.0  0.0   \n",
              "Ответственный ПМИ                                   0.0  0.0  0.0  0.0  0.0   \n",
              "Управление молодежной политики, физической куль...  0.0  0.0  0.0  0.0  0.0   \n",
              "Управление муниципального контроля города Курска    0.0  0.0  0.0  0.0  0.0   \n",
              "\n",
              "Категория                                            10   11   12   13   14  \\\n",
              "Ответственное лицо                                                            \n",
              "Администрация Беловского района                     0.0  0.0  0.0  0.0  0.0   \n",
              "Администрация Большесолдатского района              0.0  0.0  0.0  0.0  0.0   \n",
              "Администрация Глушковского района                   0.0  0.0  0.0  0.0  0.0   \n",
              "Администрация Горшеченского района                  0.0  0.0  0.0  0.0  0.0   \n",
              "Администрация Железногорского района                0.0  0.0  0.0  0.0  0.0   \n",
              "...                                                 ...  ...  ...  ...  ...   \n",
              "ООО `УК Сейм`                                       0.0  0.0  0.0  0.0  0.0   \n",
              "ООО УК `Жилсервис-Центр`                            0.0  0.0  0.0  0.0  0.0   \n",
              "Ответственный ПМИ                                   0.0  0.0  1.0  0.0  0.0   \n",
              "Управление молодежной политики, физической куль...  1.0  0.0  0.0  0.0  0.0   \n",
              "Управление муниципального контроля города Курска    0.0  1.0  0.0  0.0  0.0   \n",
              "\n",
              "Категория                                            15   16  \n",
              "Ответственное лицо                                            \n",
              "Администрация Беловского района                     0.0  0.0  \n",
              "Администрация Большесолдатского района              0.0  0.0  \n",
              "Администрация Глушковского района                   0.0  0.0  \n",
              "Администрация Горшеченского района                  0.0  1.0  \n",
              "Администрация Железногорского района                0.0  0.0  \n",
              "...                                                 ...  ...  \n",
              "ООО `УК Сейм`                                       0.0  0.0  \n",
              "ООО УК `Жилсервис-Центр`                            0.0  0.0  \n",
              "Ответственный ПМИ                                   0.0  0.0  \n",
              "Управление молодежной политики, физической куль...  0.0  0.0  \n",
              "Управление муниципального контроля города Курска    0.0  0.0  \n",
              "\n",
              "[75 rows x 17 columns]"
            ],
            "text/html": [
              "\n",
              "  <div id=\"df-0ca55c84-c1d0-4791-826b-f27335b9a4f1\">\n",
              "    <div class=\"colab-df-container\">\n",
              "      <div>\n",
              "<style scoped>\n",
              "    .dataframe tbody tr th:only-of-type {\n",
              "        vertical-align: middle;\n",
              "    }\n",
              "\n",
              "    .dataframe tbody tr th {\n",
              "        vertical-align: top;\n",
              "    }\n",
              "\n",
              "    .dataframe thead th {\n",
              "        text-align: right;\n",
              "    }\n",
              "</style>\n",
              "<table border=\"1\" class=\"dataframe\">\n",
              "  <thead>\n",
              "    <tr style=\"text-align: right;\">\n",
              "      <th>Категория</th>\n",
              "      <th>0</th>\n",
              "      <th>1</th>\n",
              "      <th>2</th>\n",
              "      <th>3</th>\n",
              "      <th>4</th>\n",
              "      <th>5</th>\n",
              "      <th>6</th>\n",
              "      <th>7</th>\n",
              "      <th>8</th>\n",
              "      <th>9</th>\n",
              "      <th>10</th>\n",
              "      <th>11</th>\n",
              "      <th>12</th>\n",
              "      <th>13</th>\n",
              "      <th>14</th>\n",
              "      <th>15</th>\n",
              "      <th>16</th>\n",
              "    </tr>\n",
              "    <tr>\n",
              "      <th>Ответственное лицо</th>\n",
              "      <th></th>\n",
              "      <th></th>\n",
              "      <th></th>\n",
              "      <th></th>\n",
              "      <th></th>\n",
              "      <th></th>\n",
              "      <th></th>\n",
              "      <th></th>\n",
              "      <th></th>\n",
              "      <th></th>\n",
              "      <th></th>\n",
              "      <th></th>\n",
              "      <th></th>\n",
              "      <th></th>\n",
              "      <th></th>\n",
              "      <th></th>\n",
              "      <th></th>\n",
              "    </tr>\n",
              "  </thead>\n",
              "  <tbody>\n",
              "    <tr>\n",
              "      <th>Администрация Беловского района</th>\n",
              "      <td>1.0</td>\n",
              "      <td>0.0</td>\n",
              "      <td>0.0</td>\n",
              "      <td>1.0</td>\n",
              "      <td>0.0</td>\n",
              "      <td>0.0</td>\n",
              "      <td>0.0</td>\n",
              "      <td>0.0</td>\n",
              "      <td>0.0</td>\n",
              "      <td>0.0</td>\n",
              "      <td>0.0</td>\n",
              "      <td>0.0</td>\n",
              "      <td>0.0</td>\n",
              "      <td>0.0</td>\n",
              "      <td>0.0</td>\n",
              "      <td>0.0</td>\n",
              "      <td>0.0</td>\n",
              "    </tr>\n",
              "    <tr>\n",
              "      <th>Администрация Большесолдатского района</th>\n",
              "      <td>0.0</td>\n",
              "      <td>0.0</td>\n",
              "      <td>0.0</td>\n",
              "      <td>1.0</td>\n",
              "      <td>0.0</td>\n",
              "      <td>0.0</td>\n",
              "      <td>0.0</td>\n",
              "      <td>0.0</td>\n",
              "      <td>1.0</td>\n",
              "      <td>0.0</td>\n",
              "      <td>0.0</td>\n",
              "      <td>0.0</td>\n",
              "      <td>0.0</td>\n",
              "      <td>0.0</td>\n",
              "      <td>0.0</td>\n",
              "      <td>0.0</td>\n",
              "      <td>0.0</td>\n",
              "    </tr>\n",
              "    <tr>\n",
              "      <th>Администрация Глушковского района</th>\n",
              "      <td>1.0</td>\n",
              "      <td>0.0</td>\n",
              "      <td>0.0</td>\n",
              "      <td>1.0</td>\n",
              "      <td>0.0</td>\n",
              "      <td>0.0</td>\n",
              "      <td>0.0</td>\n",
              "      <td>0.0</td>\n",
              "      <td>0.0</td>\n",
              "      <td>0.0</td>\n",
              "      <td>0.0</td>\n",
              "      <td>0.0</td>\n",
              "      <td>0.0</td>\n",
              "      <td>0.0</td>\n",
              "      <td>0.0</td>\n",
              "      <td>0.0</td>\n",
              "      <td>0.0</td>\n",
              "    </tr>\n",
              "    <tr>\n",
              "      <th>Администрация Горшеченского района</th>\n",
              "      <td>1.0</td>\n",
              "      <td>0.0</td>\n",
              "      <td>0.0</td>\n",
              "      <td>1.0</td>\n",
              "      <td>0.0</td>\n",
              "      <td>0.0</td>\n",
              "      <td>0.0</td>\n",
              "      <td>0.0</td>\n",
              "      <td>0.0</td>\n",
              "      <td>0.0</td>\n",
              "      <td>0.0</td>\n",
              "      <td>0.0</td>\n",
              "      <td>0.0</td>\n",
              "      <td>0.0</td>\n",
              "      <td>0.0</td>\n",
              "      <td>0.0</td>\n",
              "      <td>1.0</td>\n",
              "    </tr>\n",
              "    <tr>\n",
              "      <th>Администрация Железногорского района</th>\n",
              "      <td>1.0</td>\n",
              "      <td>0.0</td>\n",
              "      <td>0.0</td>\n",
              "      <td>1.0</td>\n",
              "      <td>0.0</td>\n",
              "      <td>0.0</td>\n",
              "      <td>0.0</td>\n",
              "      <td>1.0</td>\n",
              "      <td>0.0</td>\n",
              "      <td>0.0</td>\n",
              "      <td>0.0</td>\n",
              "      <td>0.0</td>\n",
              "      <td>0.0</td>\n",
              "      <td>0.0</td>\n",
              "      <td>0.0</td>\n",
              "      <td>0.0</td>\n",
              "      <td>0.0</td>\n",
              "    </tr>\n",
              "    <tr>\n",
              "      <th>...</th>\n",
              "      <td>...</td>\n",
              "      <td>...</td>\n",
              "      <td>...</td>\n",
              "      <td>...</td>\n",
              "      <td>...</td>\n",
              "      <td>...</td>\n",
              "      <td>...</td>\n",
              "      <td>...</td>\n",
              "      <td>...</td>\n",
              "      <td>...</td>\n",
              "      <td>...</td>\n",
              "      <td>...</td>\n",
              "      <td>...</td>\n",
              "      <td>...</td>\n",
              "      <td>...</td>\n",
              "      <td>...</td>\n",
              "      <td>...</td>\n",
              "    </tr>\n",
              "    <tr>\n",
              "      <th>ООО `УК Сейм`</th>\n",
              "      <td>0.0</td>\n",
              "      <td>0.0</td>\n",
              "      <td>0.0</td>\n",
              "      <td>1.0</td>\n",
              "      <td>0.0</td>\n",
              "      <td>0.0</td>\n",
              "      <td>0.0</td>\n",
              "      <td>0.0</td>\n",
              "      <td>0.0</td>\n",
              "      <td>0.0</td>\n",
              "      <td>0.0</td>\n",
              "      <td>0.0</td>\n",
              "      <td>0.0</td>\n",
              "      <td>0.0</td>\n",
              "      <td>0.0</td>\n",
              "      <td>0.0</td>\n",
              "      <td>0.0</td>\n",
              "    </tr>\n",
              "    <tr>\n",
              "      <th>ООО УК `Жилсервис-Центр`</th>\n",
              "      <td>0.0</td>\n",
              "      <td>0.0</td>\n",
              "      <td>0.0</td>\n",
              "      <td>1.0</td>\n",
              "      <td>0.0</td>\n",
              "      <td>0.0</td>\n",
              "      <td>0.0</td>\n",
              "      <td>0.0</td>\n",
              "      <td>0.0</td>\n",
              "      <td>0.0</td>\n",
              "      <td>0.0</td>\n",
              "      <td>0.0</td>\n",
              "      <td>0.0</td>\n",
              "      <td>0.0</td>\n",
              "      <td>0.0</td>\n",
              "      <td>0.0</td>\n",
              "      <td>0.0</td>\n",
              "    </tr>\n",
              "    <tr>\n",
              "      <th>Ответственный ПМИ</th>\n",
              "      <td>0.0</td>\n",
              "      <td>0.0</td>\n",
              "      <td>0.0</td>\n",
              "      <td>1.0</td>\n",
              "      <td>1.0</td>\n",
              "      <td>0.0</td>\n",
              "      <td>0.0</td>\n",
              "      <td>0.0</td>\n",
              "      <td>0.0</td>\n",
              "      <td>0.0</td>\n",
              "      <td>0.0</td>\n",
              "      <td>0.0</td>\n",
              "      <td>1.0</td>\n",
              "      <td>0.0</td>\n",
              "      <td>0.0</td>\n",
              "      <td>0.0</td>\n",
              "      <td>0.0</td>\n",
              "    </tr>\n",
              "    <tr>\n",
              "      <th>Управление молодежной политики, физической культуры и спорта города Курска</th>\n",
              "      <td>0.0</td>\n",
              "      <td>0.0</td>\n",
              "      <td>0.0</td>\n",
              "      <td>1.0</td>\n",
              "      <td>0.0</td>\n",
              "      <td>0.0</td>\n",
              "      <td>0.0</td>\n",
              "      <td>0.0</td>\n",
              "      <td>0.0</td>\n",
              "      <td>0.0</td>\n",
              "      <td>1.0</td>\n",
              "      <td>0.0</td>\n",
              "      <td>0.0</td>\n",
              "      <td>0.0</td>\n",
              "      <td>0.0</td>\n",
              "      <td>0.0</td>\n",
              "      <td>0.0</td>\n",
              "    </tr>\n",
              "    <tr>\n",
              "      <th>Управление муниципального контроля города Курска</th>\n",
              "      <td>0.0</td>\n",
              "      <td>0.0</td>\n",
              "      <td>0.0</td>\n",
              "      <td>0.0</td>\n",
              "      <td>0.0</td>\n",
              "      <td>0.0</td>\n",
              "      <td>0.0</td>\n",
              "      <td>0.0</td>\n",
              "      <td>0.0</td>\n",
              "      <td>0.0</td>\n",
              "      <td>0.0</td>\n",
              "      <td>1.0</td>\n",
              "      <td>0.0</td>\n",
              "      <td>0.0</td>\n",
              "      <td>0.0</td>\n",
              "      <td>0.0</td>\n",
              "      <td>0.0</td>\n",
              "    </tr>\n",
              "  </tbody>\n",
              "</table>\n",
              "<p>75 rows × 17 columns</p>\n",
              "</div>\n",
              "      <button class=\"colab-df-convert\" onclick=\"convertToInteractive('df-0ca55c84-c1d0-4791-826b-f27335b9a4f1')\"\n",
              "              title=\"Convert this dataframe to an interactive table.\"\n",
              "              style=\"display:none;\">\n",
              "        \n",
              "  <svg xmlns=\"http://www.w3.org/2000/svg\" height=\"24px\"viewBox=\"0 0 24 24\"\n",
              "       width=\"24px\">\n",
              "    <path d=\"M0 0h24v24H0V0z\" fill=\"none\"/>\n",
              "    <path d=\"M18.56 5.44l.94 2.06.94-2.06 2.06-.94-2.06-.94-.94-2.06-.94 2.06-2.06.94zm-11 1L8.5 8.5l.94-2.06 2.06-.94-2.06-.94L8.5 2.5l-.94 2.06-2.06.94zm10 10l.94 2.06.94-2.06 2.06-.94-2.06-.94-.94-2.06-.94 2.06-2.06.94z\"/><path d=\"M17.41 7.96l-1.37-1.37c-.4-.4-.92-.59-1.43-.59-.52 0-1.04.2-1.43.59L10.3 9.45l-7.72 7.72c-.78.78-.78 2.05 0 2.83L4 21.41c.39.39.9.59 1.41.59.51 0 1.02-.2 1.41-.59l7.78-7.78 2.81-2.81c.8-.78.8-2.07 0-2.86zM5.41 20L4 18.59l7.72-7.72 1.47 1.35L5.41 20z\"/>\n",
              "  </svg>\n",
              "      </button>\n",
              "      \n",
              "  <style>\n",
              "    .colab-df-container {\n",
              "      display:flex;\n",
              "      flex-wrap:wrap;\n",
              "      gap: 12px;\n",
              "    }\n",
              "\n",
              "    .colab-df-convert {\n",
              "      background-color: #E8F0FE;\n",
              "      border: none;\n",
              "      border-radius: 50%;\n",
              "      cursor: pointer;\n",
              "      display: none;\n",
              "      fill: #1967D2;\n",
              "      height: 32px;\n",
              "      padding: 0 0 0 0;\n",
              "      width: 32px;\n",
              "    }\n",
              "\n",
              "    .colab-df-convert:hover {\n",
              "      background-color: #E2EBFA;\n",
              "      box-shadow: 0px 1px 2px rgba(60, 64, 67, 0.3), 0px 1px 3px 1px rgba(60, 64, 67, 0.15);\n",
              "      fill: #174EA6;\n",
              "    }\n",
              "\n",
              "    [theme=dark] .colab-df-convert {\n",
              "      background-color: #3B4455;\n",
              "      fill: #D2E3FC;\n",
              "    }\n",
              "\n",
              "    [theme=dark] .colab-df-convert:hover {\n",
              "      background-color: #434B5C;\n",
              "      box-shadow: 0px 1px 3px 1px rgba(0, 0, 0, 0.15);\n",
              "      filter: drop-shadow(0px 1px 2px rgba(0, 0, 0, 0.3));\n",
              "      fill: #FFFFFF;\n",
              "    }\n",
              "  </style>\n",
              "\n",
              "      <script>\n",
              "        const buttonEl =\n",
              "          document.querySelector('#df-0ca55c84-c1d0-4791-826b-f27335b9a4f1 button.colab-df-convert');\n",
              "        buttonEl.style.display =\n",
              "          google.colab.kernel.accessAllowed ? 'block' : 'none';\n",
              "\n",
              "        async function convertToInteractive(key) {\n",
              "          const element = document.querySelector('#df-0ca55c84-c1d0-4791-826b-f27335b9a4f1');\n",
              "          const dataTable =\n",
              "            await google.colab.kernel.invokeFunction('convertToInteractive',\n",
              "                                                     [key], {});\n",
              "          if (!dataTable) return;\n",
              "\n",
              "          const docLinkHtml = 'Like what you see? Visit the ' +\n",
              "            '<a target=\"_blank\" href=https://colab.research.google.com/notebooks/data_table.ipynb>data table notebook</a>'\n",
              "            + ' to learn more about interactive tables.';\n",
              "          element.innerHTML = '';\n",
              "          dataTable['output_type'] = 'display_data';\n",
              "          await google.colab.output.renderOutput(dataTable, element);\n",
              "          const docLink = document.createElement('div');\n",
              "          docLink.innerHTML = docLinkHtml;\n",
              "          element.appendChild(docLink);\n",
              "        }\n",
              "      </script>\n",
              "    </div>\n",
              "  </div>\n",
              "  "
            ]
          },
          "metadata": {},
          "execution_count": 114
        }
      ]
    },
    {
      "cell_type": "markdown",
      "source": [
        "# Посмотрим, какой мусор есть в сообщениях"
      ],
      "metadata": {
        "id": "elh1jB1Knn61"
      }
    },
    {
      "cell_type": "code",
      "source": [
        "train[\"Текст Сообщения\"][5]"
      ],
      "metadata": {
        "colab": {
          "base_uri": "https://localhost:8080/",
          "height": 88
        },
        "id": "On701tMAmimY",
        "outputId": "c2960725-c1a4-48e3-c7ba-ef82b198cc65"
      },
      "execution_count": 97,
      "outputs": [
        {
          "output_type": "execute_result",
          "data": {
            "text/plain": [
              "'<p>Добрый день! Управляющая Компания “Аврора +” не убирает дворовую территорию по адресу г. Курск, ул. Союзная д. 71Б. &nbsp;Я неоднократно звонил в управляющую компанию, но результата нет. &nbsp;После сегодняшнего снегопада ситуация также не изменилась. Прошу принять меры и обязать УК “Аврора +” &nbsp;исполнять свои обязательства, которые они в 2021 году взяли на себя, перед жителями многоквартирного дома. &nbsp;&nbsp;</p>'"
            ],
            "application/vnd.google.colaboratory.intrinsic+json": {
              "type": "string"
            }
          },
          "metadata": {},
          "execution_count": 97
        }
      ]
    },
    {
      "cell_type": "code",
      "source": [
        "train.iloc[4]"
      ],
      "metadata": {
        "colab": {
          "base_uri": "https://localhost:8080/"
        },
        "id": "1ycbD0uXnDDO",
        "outputId": "716c1f10-a24f-49ea-85f2-b4f58f53e3de"
      },
      "execution_count": 98,
      "outputs": [
        {
          "output_type": "execute_result",
          "data": {
            "text/plain": [
              "id                                                                 1797\n",
              "Текст Сообщения       <p style=`text-align:justify;`><span style=`ba...\n",
              "Тематика                                              Аварийные деревья\n",
              "Ответственное лицо           Комитет городского хозяйства города Курска\n",
              "Категория                                                             3\n",
              "Name: 4, dtype: object"
            ]
          },
          "metadata": {},
          "execution_count": 98
        }
      ]
    },
    {
      "cell_type": "markdown",
      "source": [
        "# Предобработка текстов"
      ],
      "metadata": {
        "id": "nvoVKBAyoFMo"
      }
    },
    {
      "cell_type": "markdown",
      "source": [
        "## Убираю HTML"
      ],
      "metadata": {
        "id": "9CgFy3hwopob"
      }
    },
    {
      "cell_type": "code",
      "source": [
        "import re\n",
        "CLEANR = re.compile('<.*?>|&([a-z0-9]+|#[0-9]{1,6}|#x[0-9a-f]{1,6});')\n",
        "SPACER = re.compile('\\s+')\n",
        "\n",
        "def cleanhtml(raw_html):\n",
        "  cleantext = re.sub(CLEANR, ' ', raw_html)\n",
        "  cleantext = re.sub(SPACER, ' ', cleantext)\n",
        "  return cleantext"
      ],
      "metadata": {
        "id": "Y3O-fopboJVL"
      },
      "execution_count": 99,
      "outputs": []
    },
    {
      "cell_type": "code",
      "source": [
        "train[\"text\"] = train[\"Текст Сообщения\"].apply(cleanhtml)"
      ],
      "metadata": {
        "id": "0G93KWMCmjK4"
      },
      "execution_count": 100,
      "outputs": []
    },
    {
      "cell_type": "markdown",
      "source": [
        "## Поиск адреса в сообщении"
      ],
      "metadata": {
        "id": "mWwXQTZ9sgO-"
      }
    },
    {
      "cell_type": "code",
      "source": [
        "# ToDo: научиться вытягивать адрес в отдельный столбец"
      ],
      "metadata": {
        "id": "Dv4aMLHasfcE"
      },
      "execution_count": null,
      "outputs": []
    },
    {
      "cell_type": "markdown",
      "source": [
        "## stemming"
      ],
      "metadata": {
        "id": "7OqPOQlLpNeT"
      }
    },
    {
      "cell_type": "code",
      "source": [
        "from nltk.stem.snowball import SnowballStemmer\n",
        "stemmer = SnowballStemmer(\"russian\")\n",
        "\n",
        "def stemtext(input_text):\n",
        "  words = input_text.split(\" \")\n",
        "  return ' '.join([stemmer.stem(w) for w in words])"
      ],
      "metadata": {
        "id": "s-RnBy69odp0"
      },
      "execution_count": 54,
      "outputs": []
    },
    {
      "cell_type": "code",
      "source": [
        "train.text = train.text.apply(stemtext)"
      ],
      "metadata": {
        "id": "oM0v4KWlppwu"
      },
      "execution_count": 55,
      "outputs": []
    },
    {
      "cell_type": "markdown",
      "source": [
        "## Lemmatisation"
      ],
      "metadata": {
        "id": "lneC_hrEs7Xo"
      }
    },
    {
      "cell_type": "code",
      "source": [
        "## ToDo"
      ],
      "metadata": {
        "id": "LTc2RnROs6ui"
      },
      "execution_count": 115,
      "outputs": []
    },
    {
      "cell_type": "markdown",
      "source": [
        "# Предскажем тематику по тексту"
      ],
      "metadata": {
        "id": "ko0ZVQ9n0xL1"
      }
    },
    {
      "cell_type": "markdown",
      "source": [
        "## TF-IDF"
      ],
      "metadata": {
        "id": "Bxnoe4uRs1Iq"
      }
    },
    {
      "cell_type": "code",
      "source": [
        "from sklearn.feature_extraction.text import TfidfVectorizer\n",
        "td = TfidfVectorizer(max_features = 4500)\n",
        "#X = td.fit_transform(X).toarray()"
      ],
      "metadata": {
        "id": "lMxBGDJB1HBL"
      },
      "execution_count": 116,
      "outputs": []
    },
    {
      "cell_type": "code",
      "source": [
        "td = td.fit(train.text)"
      ],
      "metadata": {
        "id": "LiydyBOf1I-x"
      },
      "execution_count": 118,
      "outputs": []
    },
    {
      "cell_type": "code",
      "source": [
        "train_X = td.transform(train.text).toarray()"
      ],
      "metadata": {
        "id": "9RedPtNS1O5Y"
      },
      "execution_count": 122,
      "outputs": []
    },
    {
      "cell_type": "code",
      "source": [
        "train_y = train['Категория']"
      ],
      "metadata": {
        "id": "o49dWojvsoyq"
      },
      "execution_count": 123,
      "outputs": []
    },
    {
      "cell_type": "code",
      "source": [
        "from sklearn.linear_model import LogisticRegression\n",
        "from sklearn.multiclass import OneVsRestClassifier\n",
        "clf = OneVsRestClassifier(LogisticRegression(solver='sag'))"
      ],
      "metadata": {
        "id": "hWOeKQQjsuhm"
      },
      "execution_count": 127,
      "outputs": []
    },
    {
      "cell_type": "code",
      "source": [
        "clf_fitted = clf.fit(train_X, train_y)"
      ],
      "metadata": {
        "id": "I5-TkAaT2USj"
      },
      "execution_count": 129,
      "outputs": []
    },
    {
      "cell_type": "code",
      "source": [
        "train_predicted = clf_fitted.predict_proba(train_X)"
      ],
      "metadata": {
        "id": "l6-gEdnp2paK"
      },
      "execution_count": 131,
      "outputs": []
    },
    {
      "cell_type": "code",
      "source": [
        "from sklearn.metrics import roc_auc_score"
      ],
      "metadata": {
        "id": "fqwafWsT2CVR"
      },
      "execution_count": 132,
      "outputs": []
    },
    {
      "cell_type": "code",
      "source": [
        "roc_auc_score(y_true=train_y, y_score=train_predicted, multi_class='ovo')"
      ],
      "metadata": {
        "colab": {
          "base_uri": "https://localhost:8080/"
        },
        "id": "168D9jPb32QC",
        "outputId": "53231897-2d06-46f5-aa30-ea9097518e77"
      },
      "execution_count": 134,
      "outputs": [
        {
          "output_type": "execute_result",
          "data": {
            "text/plain": [
              "0.9927395815037824"
            ]
          },
          "metadata": {},
          "execution_count": 134
        }
      ]
    },
    {
      "cell_type": "code",
      "source": [
        ""
      ],
      "metadata": {
        "id": "50u56uyY4qHw"
      },
      "execution_count": null,
      "outputs": []
    }
  ]
}